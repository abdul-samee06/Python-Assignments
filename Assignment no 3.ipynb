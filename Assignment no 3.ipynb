{
 "cells": [
  {
   "cell_type": "code",
   "execution_count": 5,
   "metadata": {},
   "outputs": [
    {
     "name": "stdout",
     "output_type": "stream",
     "text": [
      "Enter first value 2\n",
      "Enter second value 3\n",
      "Opertors\n",
      "+ for addition\n",
      "- for subtraction\n",
      "* for multiplication\n",
      "/ for division\n",
      "^ for power\n",
      "Enter Operator ^\n",
      "8\n"
     ]
    }
   ],
   "source": [
    "val1=int(input(\"Enter first value \"))\n",
    "val2=int(input(\"Enter second value \"))\n",
    "print(\"Opertors\")\n",
    "print(\"+ for addition\")\n",
    "print(\"- for subtraction\")\n",
    "print(\"* for multiplication\")\n",
    "print(\"/ for division\")\n",
    "print(\"^ for power\")\n",
    "opt=input(\"Enter Operator \")\n",
    "\n",
    "if opt==\"+\":\n",
    "    print(val1+val2)\n",
    "elif opt==\"-\":\n",
    "    print(val1-val2)\n",
    "elif opt==\"*\":\n",
    "    print(val1*val2)\n",
    "elif opt==\"/\":\n",
    "    print(val1/val2)\n",
    "elif opt==\"^\":\n",
    "    print(val1**val2)\n",
    "else:\n",
    "    print(\"Invalid Operator\")\n",
    "    "
   ]
  },
  {
   "cell_type": "code",
   "execution_count": 11,
   "metadata": {},
   "outputs": [
    {
     "name": "stdout",
     "output_type": "stream",
     "text": [
      "yes it has numeric values\n"
     ]
    }
   ],
   "source": [
    "values=[\"Abdul Samee\",5,'a',\"Long\",4.0]\n",
    "count=0;\n",
    "for check in values:\n",
    "    if type(check) is int or type(check) is float :\n",
    "        count+=1\n",
    "if count>0:\n",
    "    print(\"yes it has numeric values\")\n",
    "    "
   ]
  },
  {
   "cell_type": "code",
   "execution_count": 15,
   "metadata": {},
   "outputs": [
    {
     "name": "stdout",
     "output_type": "stream",
     "text": [
      "{'name': 'Abdul Sami', 'caste': 'Shaikh'}\n",
      "{'name': 'Abdul Sami', 'caste': 'Shaikh', 'address': 'K.N.Shah'}\n"
     ]
    }
   ],
   "source": [
    "info={\n",
    "    \"name\" : \"Abdul Sami\",\n",
    "    \"caste\" : \"Shaikh\"\n",
    "}\n",
    "\n",
    "print(info)\n",
    "\n",
    "info[\"address\"]=\"K.N.Shah\"\n",
    "\n",
    "print(info)"
   ]
  },
  {
   "cell_type": "code",
   "execution_count": 19,
   "metadata": {},
   "outputs": [
    {
     "name": "stdout",
     "output_type": "stream",
     "text": [
      "the sum od the numeric values in dictionary is  10\n"
     ]
    }
   ],
   "source": [
    "values={\n",
    "    1:\"Ali\",\n",
    "    \"a\" : 2,\n",
    "    3 : 4\n",
    "}\n",
    "\n",
    "sum=0\n",
    "\n",
    "for key,value in values.items() :\n",
    "    if type(value) is int or type(value) is float :\n",
    "        sum+=value\n",
    "    if type(key) is int or type(key) is float :\n",
    "        sum+=key\n",
    "        \n",
    "\n",
    "print(\"the sum od the numeric values in dictionary is \",sum)"
   ]
  },
  {
   "cell_type": "code",
   "execution_count": 34,
   "metadata": {},
   "outputs": [
    {
     "name": "stdout",
     "output_type": "stream",
     "text": [
      "repeated values: Arain Shaikh "
     ]
    }
   ],
   "source": [
    "list1=[\"Shaikh\",\"Arain\",\"Soomro\",\"Arain\",\"Rajput\",\"Shaikh\"]\n",
    "list2=[]\n",
    "print(\"repeated values:\" , end=\" \")\n",
    "for value in list1 :\n",
    "    if value in list2 :\n",
    "        print(value ,end=\" \" )\n",
    "    else :\n",
    "        list2.append(value)"
   ]
  },
  {
   "cell_type": "code",
   "execution_count": 1,
   "metadata": {},
   "outputs": [
    {
     "name": "stdout",
     "output_type": "stream",
     "text": [
      "Enter key 5\n",
      "Already exist \n"
     ]
    }
   ],
   "source": [
    "abc={\n",
    "    1 : \"hania\",\n",
    "    2 : \"bhutto jani\",\n",
    "    3 : \"Youthia\",\n",
    "    4 : \"youngisters\",\n",
    "    5 : \"wari bhutto\",\n",
    "    6 : \"jeko Bhi\"\n",
    "}\n",
    "\n",
    "key=int(input(\"Enter key \"))\n",
    "\n",
    "if key in abc.keys() :\n",
    "    print(\"Already exist \")\n",
    "else:\n",
    "    print(\"do not exist\")"
   ]
  },
  {
   "cell_type": "code",
   "execution_count": 2,
   "metadata": {},
   "outputs": [
    {
     "data": {
      "text/plain": [
       "0"
      ]
     },
     "execution_count": 2,
     "metadata": {},
     "output_type": "execute_result"
    }
   ],
   "source": [
    "\n",
    "        0"
   ]
  },
  {
   "cell_type": "code",
   "execution_count": null,
   "metadata": {},
   "outputs": [],
   "source": []
  },
  {
   "cell_type": "code",
   "execution_count": null,
   "metadata": {},
   "outputs": [],
   "source": []
  }
 ],
 "metadata": {
  "kernelspec": {
   "display_name": "Python 3",
   "language": "python",
   "name": "python3"
  },
  "language_info": {
   "codemirror_mode": {
    "name": "ipython",
    "version": 3
   },
   "file_extension": ".py",
   "mimetype": "text/x-python",
   "name": "python",
   "nbconvert_exporter": "python",
   "pygments_lexer": "ipython3",
   "version": "3.7.4"
  }
 },
 "nbformat": 4,
 "nbformat_minor": 2
}
