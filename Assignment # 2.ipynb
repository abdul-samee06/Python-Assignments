{
 "cells": [
  {
   "cell_type": "code",
   "execution_count": 1,
   "metadata": {},
   "outputs": [
    {
     "name": "stdout",
     "output_type": "stream",
     "text": [
      "Enter Marks Of First Subject: 78\n",
      "Enter Marks Of Second Subject: 98\n",
      "Enter Marks Of Third Subject: 76\n",
      "Enter Marks Of Forth Subject: 56\n",
      "Enter Marks Of Fifth Subject: 78\n",
      "\n",
      "Your grade is:\n",
      "A\n"
     ]
    }
   ],
   "source": [
    "\"\"\"\n",
    "Write a program which takes 5 inputs from user for different subject’s\n",
    "marks, total it and generate mark sheet using grades ?\n",
    "\n",
    "\"\"\"\n",
    "\n",
    "marks1=int(input(\"Enter Marks Of First Subject: \"))\n",
    "marks2=int(input(\"Enter Marks Of Second Subject: \"))\n",
    "marks3=int(input(\"Enter Marks Of Third Subject: \"))\n",
    "marks4=int(input(\"Enter Marks Of Forth Subject: \"))\n",
    "marks5=int(input(\"Enter Marks Of Fifth Subject: \"))\n",
    "\n",
    "total_marks=marks1+marks2+marks3+marks4+marks5\n",
    "\n",
    "per=(total_marks/500)*100\n",
    "\n",
    "print(\"\\nYour grade is:\")\n",
    "if per>=80 and per<=100 :\n",
    "    print(\"A+\")\n",
    "elif per>=70 and per<80 :\n",
    "    print(\"A\")\n",
    "elif per>=60 and per<70 :\n",
    "    print(\"B\")\n",
    "elif per>=50 and per<60 :\n",
    "    print(\"C\")\n",
    "elif per<50 :\n",
    "    print(\"Fail\")\n",
    "else:\n",
    "    print(\"You have entered inappropriate %\")"
   ]
  },
  {
   "cell_type": "code",
   "execution_count": 9,
   "metadata": {},
   "outputs": [
    {
     "name": "stdout",
     "output_type": "stream",
     "text": [
      "Enter any number: 9\n",
      "9  is odd\n"
     ]
    }
   ],
   "source": [
    "\"\"\"\n",
    "Write a program which take input from user and identify that the given\n",
    "number is even or odd?\n",
    "\"\"\"\n",
    "\n",
    "num=int(input(\"Enter any number: \"))\n",
    "\n",
    "if num%2==0 :\n",
    "    print(num, \" is even\")\n",
    "else :\n",
    "    print(num, \" is odd\")"
   ]
  },
  {
   "cell_type": "code",
   "execution_count": 7,
   "metadata": {},
   "outputs": [
    {
     "name": "stdout",
     "output_type": "stream",
     "text": [
      "The length of the array is:  6\n"
     ]
    }
   ],
   "source": [
    "# Write a program which print the length of the list?\n",
    "\n",
    "arr=[\"Sami\",\"Haseeb\",23,0.098,'a',45]\n",
    "\n",
    "print(\"The length of the array is: \",len(arr))\n"
   ]
  },
  {
   "cell_type": "code",
   "execution_count": 30,
   "metadata": {},
   "outputs": [
    {
     "name": "stdout",
     "output_type": "stream",
     "text": [
      "the sum of the numeric items in the list is  83.9\n"
     ]
    }
   ],
   "source": [
    "# Write a Python program to sum all the numeric items in a list?\n",
    "\n",
    "arr=[2,6,8.1,4,9.8,49,5]\n",
    "\n",
    "sum=0\n",
    "\n",
    "for num in arr:\n",
    "    sum+=num\n",
    "        \n",
    "print(\"the sum of the numeric items in the list is \",sum)        "
   ]
  },
  {
   "cell_type": "code",
   "execution_count": 12,
   "metadata": {},
   "outputs": [
    {
     "name": "stdout",
     "output_type": "stream",
     "text": [
      "The Largest num in the list is  652\n"
     ]
    }
   ],
   "source": [
    "# Write a Python program to get the largest number from a numeric list.\n",
    "\n",
    "arr=[98,652,9,10,46]\n",
    "\n",
    "large_num=0\n",
    "\n",
    "if arr[0]>large_num:\n",
    "    large_num=arr[0]\n",
    "if arr[1]>large_num:\n",
    "    large_num=arr[1]\n",
    "if arr[2]>large_num:\n",
    "    large_num=arr[2]\n",
    "if arr[3]>large_num:\n",
    "    large_num=arr[3]\n",
    "if arr[4]>large_num:\n",
    "    large_num=arr[4]\n",
    "    \n",
    "print(\"The Largest num in the list is \",large_num)\n",
    "\n",
    "\n"
   ]
  },
  {
   "cell_type": "code",
   "execution_count": 24,
   "metadata": {},
   "outputs": [
    {
     "name": "stdout",
     "output_type": "stream",
     "text": [
      "1 ,1 ,2 ,3 ,"
     ]
    }
   ],
   "source": [
    "\"\"\"\n",
    "Take a list, say for example this one:\n",
    "a = [1, 1, 2, 3, 5, 8, 13, 21, 34, 55, 89]\n",
    "and write a program that prints out all the elements of the list that are\n",
    "less than 5.\n",
    "\n",
    "\"\"\"\n",
    "\n",
    "a=[1,1,2,3,5,8,13,21,34,55,89]\n",
    "\n",
    "if a[0]<5 :\n",
    "    print(a[0],\",\",end='')\n",
    "if a[1]<5 :\n",
    "    print(a[1],\",\",end='')\n",
    "if a[2]<5 :\n",
    "    print(a[2],\",\",end='')\n",
    "if a[3]<5 :\n",
    "    print(a[3],\",\",end='')\n",
    "if a[4]<5 :\n",
    "    print(a[4],\",\",end='')\n",
    "if a[5]<5 :\n",
    "    print(a[5],\",\",end='')\n",
    "if a[6]<5 :\n",
    "    print(a[6],\",\",end='')\n",
    "if a[7]<5 :\n",
    "    print(a[7],\",\",end='')\n",
    "if a[8]<5 :\n",
    "    print(a[8],\",\",end='')\n",
    "if a[9]<5 :\n",
    "    print(a[9],\",\",end='')\n",
    "if a[10]<5 :\n",
    "    print(a[10],end='')\n",
    "    "
   ]
  },
  {
   "cell_type": "code",
   "execution_count": null,
   "metadata": {},
   "outputs": [],
   "source": []
  }
 ],
 "metadata": {
  "kernelspec": {
   "display_name": "Python 3",
   "language": "python",
   "name": "python3"
  },
  "language_info": {
   "codemirror_mode": {
    "name": "ipython",
    "version": 3
   },
   "file_extension": ".py",
   "mimetype": "text/x-python",
   "name": "python",
   "nbconvert_exporter": "python",
   "pygments_lexer": "ipython3",
   "version": "3.7.4"
  }
 },
 "nbformat": 4,
 "nbformat_minor": 2
}
