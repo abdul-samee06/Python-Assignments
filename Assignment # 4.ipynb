{
 "cells": [
  {
   "cell_type": "code",
   "execution_count": 1,
   "metadata": {},
   "outputs": [
    {
     "name": "stdout",
     "output_type": "stream",
     "text": [
      "1 : Which one is the former capital city of Pakistan?\n",
      "Islamabad\n",
      "lahore\n",
      "Multan\n",
      "Karachi\n",
      "\n",
      "Your answer is : Karachi\n",
      "\n",
      "\n",
      "2 : Which one is the national animal of Pakistan?\n",
      "Horse\n",
      "Camel\n",
      "Goat\n",
      "Markhor\n",
      "\n",
      "Your answer is : Goat\n",
      "\n",
      "\n",
      "3 : In which province the Kartarpur Corridor is located?\n",
      "Sindh\n",
      "Punjab\n",
      "Khyber Pakhtun Khuwa\n",
      "Balochistan\n",
      "\n",
      "Your answer is : Punjab\n",
      "\n",
      "\n",
      "your score is :2\n",
      "your percentage is :66.66666666666666\n"
     ]
    }
   ],
   "source": [
    "questions=[\n",
    "    {\n",
    "        \"S No\" : 1,\n",
    "        \"question\" : \"Which one is the former capital city of Pakistan?\",\n",
    "        \"options\" : [\"Islamabad\",\"lahore\",\"Multan\",\"Karachi\"],\n",
    "        \"answer\" : \"Karachi\"\n",
    "    },\n",
    "    {\n",
    "        \"S No\" : 2,\n",
    "        \"question\" : \"Which one is the national animal of Pakistan?\",\n",
    "        \"options\" : [\"Horse\",\"Camel\",\"Goat\",\"Markhor\"],\n",
    "        \"answer\" : \"Markhor\"\n",
    "    },\n",
    "    {\n",
    "        \"S No\" : 3,\n",
    "        \"question\" : \"In which province the Kartarpur Corridor is located?\",\n",
    "        \"options\" : [\"Sindh\",\"Punjab\",\"Khyber Pakhtun Khuwa\",\"Balochistan\"],\n",
    "        \"answer\" : \"Punjab\"\n",
    "    },\n",
    "]\n",
    "\n",
    "score=0\n",
    "\n",
    "for question in questions:\n",
    "    data=str(question[\"S No\"])+\" : \"+question[\"question\"]+\"\\n\"+question[\"options\"][0]+\"\\n\"+question[\"options\"][1]+\"\\n\"+question[\"options\"][2]+\"\\n\"+question[\"options\"][3] +\"\\n\"\n",
    "    print(data)\n",
    "    answer=input(\"Your answer is : \")\n",
    "    \n",
    "    if answer==question[\"answer\"]:\n",
    "        score+=1\n",
    "    \n",
    "    print(\"\\n\")\n",
    "\n",
    "print(\"your score is :\"+str(score))\n",
    "per=(score/len(questions))*100\n",
    "print(\"your percentage is :\" +str(per) )"
   ]
  },
  {
   "cell_type": "code",
   "execution_count": 2,
   "metadata": {},
   "outputs": [
    {
     "name": "stdout",
     "output_type": "stream",
     "text": [
      "{'first_name': 'Abdul Sami', 'last_name': 'Saikh', 'age': 20, 'city': 'Khairpur Nathan Shah'}\n",
      "{'first_name': 'Abdul Sami', 'last_name': 'Saikh', 'age': 20, 'city': 'Khairpur Nathan Shah', 'qualification': 'Intermediate'}\n",
      "{'first_name': 'Abdul Sami', 'last_name': 'Saikh', 'age': 20, 'city': 'Khairpur Nathan Shah', 'qualification': 'Graduation'}\n",
      "{'first_name': 'Abdul Sami', 'last_name': 'Saikh', 'age': 20, 'city': 'Khairpur Nathan Shah'}\n"
     ]
    }
   ],
   "source": [
    "person = {\n",
    "    \"first_name\" : \"Abdul Sami\",\n",
    "    \"last_name\"  : \"Saikh\",\n",
    "    \"age\"        : 20 ,\n",
    "    \"city\"       : \"Khairpur Nathan Shah\"\n",
    "}\n",
    "\n",
    "print(person)\n",
    "\n",
    "person[\"qualification\"]=\"Intermediate\"\n",
    "\n",
    "print(person)\n",
    "\n",
    "person[\"qualification\"]=\"Graduation\"\n",
    "\n",
    "print(person)\n",
    "\n",
    "del person[\"qualification\"]\n",
    "\n",
    "print(person)"
   ]
  },
  {
   "cell_type": "code",
   "execution_count": 3,
   "metadata": {},
   "outputs": [
    {
     "name": "stdout",
     "output_type": "stream",
     "text": [
      "Karachi\n",
      "country : Pakistan\n",
      "population : 12 Million\n",
      "fact : It is called the city of lights\n",
      "\n",
      "\n",
      "New York\n",
      "country : USA\n",
      "population : 10 Million\n",
      "fact : The city which never sleeps\n",
      "\n",
      "\n",
      "Mumbai\n",
      "country : India\n",
      "population : 9 Million\n",
      "fact : The city of Film Industry\n",
      "\n",
      "\n"
     ]
    }
   ],
   "source": [
    "cities={\n",
    "    \"Karachi\" : {\n",
    "        \"country\" : \"Pakistan\",\n",
    "        \"population\" : \"12 Million\",\n",
    "        \"fact\" : \"It is called the city of lights\"\n",
    "    },\n",
    "    \n",
    "    \"New York\" : {\n",
    "        \"country\" : \"USA\",\n",
    "        \"population\" : \"10 Million\",\n",
    "        \"fact\" : \"The city which never sleeps\"\n",
    "    },\n",
    "    \n",
    "    \"Mumbai\" : {\n",
    "        \"country\" : \"India\",\n",
    "        \"population\" : \"9 Million\",\n",
    "        \"fact\" : \"The city of Film Industry\"\n",
    "    }\n",
    "}\n",
    "\n",
    "for city,info in cities.items():\n",
    "    print(city)\n",
    "    for each_key,each_value in info.items():\n",
    "        print(each_key+\" : \"+each_value)\n",
    "    print(\"\\n\")"
   ]
  },
  {
   "cell_type": "code",
   "execution_count": 4,
   "metadata": {},
   "outputs": [
    {
     "name": "stdout",
     "output_type": "stream",
     "text": [
      "Enter the age : 2\n",
      "the ticket is free\n",
      "Enter the age : 5\n",
      "the ticket is $10\n",
      "Enter the age : 13\n",
      "the ticket is $15\n"
     ]
    }
   ],
   "source": [
    "def ticket_price(age):\n",
    "    if age<3 :\n",
    "        print(\"the ticket is free\")\n",
    "    elif age>=3 and age<=12:\n",
    "        print(\"the ticket is $10\")\n",
    "    elif age > 12:\n",
    "        print(\"the ticket is $15\")\n",
    "        \n",
    "        \n",
    "for i in range(3):\n",
    "    age=int(input(\"Enter the age : \"))\n",
    "    ticket_price(age)"
   ]
  },
  {
   "cell_type": "code",
   "execution_count": 5,
   "metadata": {},
   "outputs": [
    {
     "name": "stdout",
     "output_type": "stream",
     "text": [
      "One of my favorite books is Forty Rules Of Love\n"
     ]
    }
   ],
   "source": [
    "def favorite_book(title):\n",
    "    print(\"One of my favorite books is \"+title)\n",
    "    \n",
    "\n",
    "book=\"Forty Rules Of Love\"\n",
    "favorite_book(book)"
   ]
  },
  {
   "cell_type": "code",
   "execution_count": 10,
   "metadata": {},
   "outputs": [
    {
     "name": "stdout",
     "output_type": "stream",
     "text": [
      "Guess a no:14\n",
      "Wrong Guess!\n",
      "your given num is less than actual num\n",
      "\n",
      "Guess a no:18\n",
      "Wrong Guess!\n",
      "your given num is less than actual num\n",
      "\n",
      "Guess a no:24\n",
      "Wrong Guess!\n",
      "your given num is greater than actual num\n",
      "\n",
      "you failed!!\n"
     ]
    }
   ],
   "source": [
    "import random\n",
    "from random import randint\n",
    "\n",
    "value=randint(1,30)\n",
    "check=0\n",
    "\n",
    "\n",
    "for i in range(1,4):\n",
    "    num= int(input(\"Guess a no:\"))\n",
    "    if num==value:\n",
    "        print(\"You Won\")\n",
    "        check+=1\n",
    "        break\n",
    "    elif num<value :\n",
    "        print(\"Wrong Guess!\")\n",
    "        print(\"your given num is less than actual num\\n\")\n",
    "    else :\n",
    "        print(\"Wrong Guess!\")\n",
    "        print(\"your given num is greater than actual num\\n\")\n",
    "\n",
    "if check == 0:\n",
    "    print(\"you failed!!\")"
   ]
  },
  {
   "cell_type": "code",
   "execution_count": null,
   "metadata": {},
   "outputs": [],
   "source": []
  },
  {
   "cell_type": "code",
   "execution_count": null,
   "metadata": {},
   "outputs": [],
   "source": []
  }
 ],
 "metadata": {
  "kernelspec": {
   "display_name": "Python 3",
   "language": "python",
   "name": "python3"
  },
  "language_info": {
   "codemirror_mode": {
    "name": "ipython",
    "version": 3
   },
   "file_extension": ".py",
   "mimetype": "text/x-python",
   "name": "python",
   "nbconvert_exporter": "python",
   "pygments_lexer": "ipython3",
   "version": "3.7.4"
  }
 },
 "nbformat": 4,
 "nbformat_minor": 2
}
