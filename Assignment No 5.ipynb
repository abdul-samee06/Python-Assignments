{
 "cells": [
  {
   "cell_type": "code",
   "execution_count": 1,
   "metadata": {},
   "outputs": [
    {
     "name": "stdout",
     "output_type": "stream",
     "text": [
      "720\n"
     ]
    }
   ],
   "source": [
    "def fact(num):\n",
    "    \n",
    "    sum=1\n",
    "    while num>0:\n",
    "        sum*=num\n",
    "        num=num-1\n",
    "        \n",
    "    return sum\n",
    "    \n",
    "    \n",
    "\n",
    "myfact=fact(6)\n",
    "print(myfact)\n",
    "       "
   ]
  },
  {
   "cell_type": "code",
   "execution_count": 2,
   "metadata": {},
   "outputs": [
    {
     "name": "stdout",
     "output_type": "stream",
     "text": [
      "UpperCase: 5\n",
      "LowerCase: 5\n"
     ]
    }
   ],
   "source": [
    "\n",
    "\n",
    "def count_upper_lower(string):\n",
    "    countU=0\n",
    "    countL=0\n",
    "    for i in string:\n",
    "          if(i.islower()):\n",
    "                countL=countL+1\n",
    "          elif(i.isupper()):\n",
    "                countU=countU+1\n",
    "                \n",
    "    print(\"UpperCase:\",countU)\n",
    "    print(\"LowerCase:\",countL)\n",
    "\n",
    "   \n",
    "\n",
    "    \n",
    "count_upper_lower(\"AbdUL sAmeE\")\n"
   ]
  },
  {
   "cell_type": "code",
   "execution_count": 3,
   "metadata": {},
   "outputs": [
    {
     "name": "stdout",
     "output_type": "stream",
     "text": [
      "6\n",
      "10\n",
      "2\n",
      "8\n"
     ]
    }
   ],
   "source": [
    "\n",
    "def even_numbers(list2):\n",
    "    \n",
    "    for x in list2:\n",
    "        if x%2==0:\n",
    "            print(x)\n",
    "            \n",
    "\n",
    "list1=[1,3,6,10,2,8,7,9]\n",
    "\n",
    "even_numbers(list1)"
   ]
  },
  {
   "cell_type": "code",
   "execution_count": 6,
   "metadata": {},
   "outputs": [
    {
     "name": "stdout",
     "output_type": "stream",
     "text": [
      "It is palindrome\n"
     ]
    }
   ],
   "source": [
    "def check_palindrome(myString):\n",
    "    \n",
    "    s=\"\"\n",
    "    for x in reversed(range(len(myString))):\n",
    "        s=s+myString[x]\n",
    "        \n",
    "        \n",
    "    if s==myString:\n",
    "        print(\"It is palindrome\")\n",
    "    else:\n",
    "        print(\"not a palindrome\")\n",
    "        \n",
    "check_palindrome(\"noon\")"
   ]
  },
  {
   "cell_type": "code",
   "execution_count": 8,
   "metadata": {},
   "outputs": [
    {
     "name": "stdout",
     "output_type": "stream",
     "text": [
      "not a prime\n",
      "It is prime\n"
     ]
    }
   ],
   "source": [
    "def check_prime(num):\n",
    "    \n",
    "    count=0\n",
    "    for x in range(1,num+1):\n",
    "        \n",
    "        if num%x==0:\n",
    "            count=count+1\n",
    "            \n",
    "    if count==2:\n",
    "        print(\"It is prime\")\n",
    "    else:\n",
    "        print(\"not a prime\")\n",
    "        \n",
    "        \n",
    "check_prime(9)\n",
    "check_prime(11)"
   ]
  },
  {
   "cell_type": "code",
   "execution_count": 9,
   "metadata": {},
   "outputs": [
    {
     "name": "stdout",
     "output_type": "stream",
     "text": [
      "Wheat\n",
      "rice\n",
      "fruits\n",
      "toys\n"
     ]
    }
   ],
   "source": [
    "def shoppinglist(*items):\n",
    "    \n",
    "    for x in items:\n",
    "        print(x)\n",
    "        \n",
    "        \n",
    "\n",
    "\n",
    "shoppinglist(\"Wheat\",\"rice\",\"fruits\",\"toys\")"
   ]
  },
  {
   "cell_type": "code",
   "execution_count": null,
   "metadata": {},
   "outputs": [],
   "source": []
  }
 ],
 "metadata": {
  "kernelspec": {
   "display_name": "Python 3",
   "language": "python",
   "name": "python3"
  },
  "language_info": {
   "codemirror_mode": {
    "name": "ipython",
    "version": 3
   },
   "file_extension": ".py",
   "mimetype": "text/x-python",
   "name": "python",
   "nbconvert_exporter": "python",
   "pygments_lexer": "ipython3",
   "version": "3.7.4"
  }
 },
 "nbformat": 4,
 "nbformat_minor": 2
}
